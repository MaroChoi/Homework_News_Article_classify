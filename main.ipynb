{
 "cells": [
  {
   "cell_type": "markdown",
   "id": "0b317795",
   "metadata": {},
   "source": [
    "Step 1. 데이터 전처리\n",
    "TfidfVectorizer로 텍스트 벡터화\n",
    "Stopwords 제거, 소문자 통일 등 기본 클렌징\n",
    "\n",
    "Step 2. 세 가지 모델 학습\n",
    "모델 1: Naive Bayes (MultinomialNB)\n",
    "모델 2: SGDClassifier (linear SVM with hinge loss)\n",
    "모델 3: BERT 기반 분류기 (Hugging Face의 transformers 라이브러리 사용, distilbert-base-uncased 추천)\n",
    "\n",
    "Step 3. 모델 학습 및 예측\n",
    "훈련 데이터로 학습 → 테스트 데이터로 예측 수행\n",
    "\n",
    "Step 4. 성능 비교\n",
    "정확도(Accuracy)\n",
    "정밀도/재현율/F1-score (macro average)\n",
    "학습 속도 및 예측 시간 비교 (옵션)\n",
    "\n",
    "Step 5. 결과 분석 및 보고서 작성\n",
    "성능 비교 그래프/표 작성\n",
    "각 모델의 강점/약점 분석\n",
    "\n",
    "최종적으로 어떤 모델이 왜 적합한지 선정\n"
   ]
  },
  {
   "cell_type": "code",
   "execution_count": 3,
   "id": "76604195",
   "metadata": {},
   "outputs": [],
   "source": [
    "# 0. 데이터셋 준비\n",
    "# 이 코드는 20 Newsgroups 데이터셋을 불러오는 예제입니다.\n",
    "\n",
    "from sklearn.datasets import fetch_20newsgroups\n",
    "newsgroups_train = fetch_20newsgroups(subset='train', remove=('headers', 'footers', 'quotes'))\n",
    "newsgroups_test = fetch_20newsgroups(subset='test', remove=('headers', 'footers', 'quotes'))"
   ]
  },
  {
   "cell_type": "code",
   "execution_count": 4,
   "id": "e35c653e",
   "metadata": {},
   "outputs": [],
   "source": [
    "# Step 1: 데이터 전처리\n",
    "# TfidfVectorizer로 텍스트 벡터화\n",
    "from sklearn.feature_extraction.text import TfidfVectorizer\n",
    "vectorizer = TfidfVectorizer(stop_words='english', # 불용어(stop_word) 제거\n",
    "                             lowercase=True, # 소문자 통일\n",
    "                             max_df=0.95, # 문서의 95% 이상에서 등장하면 제외 (너무 흔한 단어 제외)\n",
    "                             min_df=2 # 문서의 2개 이상에서 등장해야 포함 (너무 드문 단어 제외)\n",
    "                             ) \n",
    "X_train = vectorizer.fit_transform(newsgroups_train.data) # 벡터화된 훈련 데이터\n",
    "X_test = vectorizer.transform(newsgroups_test.data) # 벡터화된 테스트 데이터"
   ]
  },
  {
   "cell_type": "code",
   "execution_count": null,
   "id": "ba974a21",
   "metadata": {},
   "outputs": [],
   "source": [
    "# Step 2. 세 가지 모델 학습\n",
    "# 모델 1: Naive Bayes (MultinomialNB) --> 뉴스 분류, 감정 분석 등 텍스트 분류\n",
    "# 우선적 고려 \n",
    "# 1. 이 데이터는 텍스트 분류에 적합한가? -> O\n",
    "# 2. 이 데이터는 변수간 독립성이 보장되는가? -> 확인 해야 한다\n",
    "# 3. 이 데이터의 양은 어떠한가? -> 충분히 많다 --> 나이브 베이즈 모델을 사용하기에 적합하지는 않다.\n",
    "\n",
    "#모델 2: SGDClassifier (linear SVM with hinge loss)\n",
    "\n",
    "\n",
    "#모델 3: BERT 기반 분류기 (Hugging Face의 transformers 라이브러리 사용, distilbert-base-uncased 추천)"
   ]
  }
 ],
 "metadata": {
  "kernelspec": {
   "display_name": "base",
   "language": "python",
   "name": "python3"
  },
  "language_info": {
   "codemirror_mode": {
    "name": "ipython",
    "version": 3
   },
   "file_extension": ".py",
   "mimetype": "text/x-python",
   "name": "python",
   "nbconvert_exporter": "python",
   "pygments_lexer": "ipython3",
   "version": "3.12.7"
  }
 },
 "nbformat": 4,
 "nbformat_minor": 5
}
