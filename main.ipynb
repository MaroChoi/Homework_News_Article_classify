{
 "cells": [
  {
   "cell_type": "markdown",
   "id": "0b317795",
   "metadata": {},
   "source": [
    "Step 1. 데이터 전처리\n",
    "TfidfVectorizer로 텍스트 벡터화\n",
    "Stopwords 제거, 소문자 통일 등 기본 클렌징\n",
    "\n",
    "Step 2. 세 가지 모델 학습\n",
    "모델 1: Naive Bayes (MultinomialNB)\n",
    "모델 2: SGDClassifier (linear SVM with hinge loss)\n",
    "모델 3: BERT 기반 분류기 (Hugging Face의 transformers 라이브러리 사용, distilbert-base-uncased 추천)\n",
    "\n",
    "Step 3. 모델 학습 및 예측\n",
    "훈련 데이터로 학습 → 테스트 데이터로 예측 수행\n",
    "\n",
    "Step 4. 성능 비교\n",
    "정확도(Accuracy)\n",
    "정밀도/재현율/F1-score (macro average)\n",
    "학습 속도 및 예측 시간 비교 (옵션)\n",
    "\n",
    "Step 5. 결과 분석 및 보고서 작성\n",
    "성능 비교 그래프/표 작성\n",
    "각 모델의 강점/약점 분석\n",
    "\n",
    "최종적으로 어떤 모델이 왜 적합한지 선정\n"
   ]
  },
  {
   "cell_type": "code",
   "execution_count": 1,
   "id": "76604195",
   "metadata": {},
   "outputs": [
    {
     "ename": "ModuleNotFoundError",
     "evalue": "No module named 'datasets'",
     "output_type": "error",
     "traceback": [
      "\u001b[1;31m---------------------------------------------------------------------------\u001b[0m",
      "\u001b[1;31mModuleNotFoundError\u001b[0m                       Traceback (most recent call last)",
      "Cell \u001b[1;32mIn[1], line 3\u001b[0m\n\u001b[0;32m      1\u001b[0m \u001b[38;5;66;03m# 0. 데이터셋 준비\u001b[39;00m\n\u001b[0;32m      2\u001b[0m \u001b[38;5;66;03m# 이 코드는 20 Newsgroups 데이터셋을 불러오는 예제입니다.\u001b[39;00m\n\u001b[1;32m----> 3\u001b[0m \u001b[38;5;28;01mfrom\u001b[39;00m \u001b[38;5;21;01mdatasets\u001b[39;00m \u001b[38;5;28;01mimport\u001b[39;00m load_dataset\n\u001b[0;32m      4\u001b[0m \u001b[38;5;28;01mfrom\u001b[39;00m \u001b[38;5;21;01mtransformers\u001b[39;00m \u001b[38;5;28;01mimport\u001b[39;00m BertTokenizerFast, BertForSequenceClassification, get_linear_schedule_with_warmup\n\u001b[0;32m      5\u001b[0m \u001b[38;5;28;01mfrom\u001b[39;00m \u001b[38;5;21;01mtorch\u001b[39;00m\u001b[38;5;21;01m.\u001b[39;00m\u001b[38;5;21;01moptim\u001b[39;00m \u001b[38;5;28;01mimport\u001b[39;00m AdamW\n",
      "\u001b[1;31mModuleNotFoundError\u001b[0m: No module named 'datasets'"
     ]
    }
   ],
   "source": [
    "# 0. 데이터셋 준비\n",
    "# 이 코드는 20 Newsgroups 데이터셋을 불러오는 예제입니다.\n",
    "from datasets import load_dataset\n",
    "from transformers import BertTokenizerFast, BertForSequenceClassification, get_linear_schedule_with_warmup\n",
    "from torch.optim import AdamW\n",
    "from torch.utils.data import TensorDataset, DataLoader, RandomSampler, SequentialSampler \n",
    "import torch\n",
    "\n",
    "from sklearn.datasets import fetch_20newsgroups\n",
    "newsgroups_train = fetch_20newsgroups(subset='train', remove=('headers', 'footers', 'quotes'))\n",
    "newsgroups_test = fetch_20newsgroups(subset='test', remove=('headers', 'footers', 'quotes'))"
   ]
  },
  {
   "cell_type": "code",
   "execution_count": null,
   "id": "4364fc14",
   "metadata": {},
   "outputs": [],
   "source": [
    "# Step 1: 데이터 전처리\n",
    "# TfidfVectorizer로 텍스트 벡터화\n",
    "\n",
    "# Stopwords 제거, 소문자 통일 등 기본 클렌징"
   ]
  }
 ],
 "metadata": {
  "kernelspec": {
   "display_name": "base",
   "language": "python",
   "name": "python3"
  },
  "language_info": {
   "codemirror_mode": {
    "name": "ipython",
    "version": 3
   },
   "file_extension": ".py",
   "mimetype": "text/x-python",
   "name": "python",
   "nbconvert_exporter": "python",
   "pygments_lexer": "ipython3",
   "version": "3.12.7"
  }
 },
 "nbformat": 4,
 "nbformat_minor": 5
}
